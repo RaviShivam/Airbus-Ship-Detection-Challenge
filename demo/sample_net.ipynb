{
 "cells": [
  {
   "cell_type": "code",
   "execution_count": 42,
   "metadata": {
    "ExecuteTime": {
     "end_time": "2018-12-08T12:44:42.064555Z",
     "start_time": "2018-12-08T12:44:42.051940Z"
    },
    "collapsed": true
   },
   "outputs": [],
   "source": [
    "import torch\n",
    "import torch.nn as nn\n",
    "import torch.nn.functional as F\n",
    "import torch.optim as optim\n",
    "\n",
    "torch.backends.cudnn.benchmark=True"
   ]
  },
  {
   "cell_type": "markdown",
   "metadata": {
    "heading_collapsed": true
   },
   "source": [
    "# Net"
   ]
  },
  {
   "cell_type": "code",
   "execution_count": 60,
   "metadata": {
    "ExecuteTime": {
     "end_time": "2018-12-08T13:36:43.278985Z",
     "start_time": "2018-12-08T13:36:43.191890Z"
    },
    "code_folding": [
     0
    ],
    "hidden": true
   },
   "outputs": [
    {
     "name": "stdout",
     "output_type": "stream",
     "text": [
      "x: <class 'torch.Tensor'>\n",
      "None\n",
      "tensor([ 0.0019,  0.0074,  0.0174,  0.0154, -0.0056, -0.0060], device='cuda:0')\n"
     ]
    }
   ],
   "source": [
    "class Net(nn.Module):\n",
    "    def __init__(self):\n",
    "        super(Net, self).__init__()\n",
    "        self.conv1 = nn.Conv2d(1,6,5) #(in, out, kernel_size)\n",
    "        self.conv2 = nn.Conv2d(6,16,5)\n",
    "        self.fc1   = nn.Linear(16*5*5, 120) #(in, out)\n",
    "        self.fc2   = nn.Linear(120,84)\n",
    "        self.fc3   = nn.Linear(84,10)\n",
    "    \n",
    "    def forward(self, x):\n",
    "        x = F.max_pool2d(F.relu(self.conv1(x)), (2,2))\n",
    "        x = F.max_pool2d(F.relu(self.conv2(x)), 2)\n",
    "        x = x.view(-1, self.num_flat_features(x))\n",
    "        x = F.relu(self.fc1(x))\n",
    "        x = F.relu(self.fc2(x))\n",
    "        x = self.fc3(x)\n",
    "        return x\n",
    "    \n",
    "    def num_flat_features(self, x):\n",
    "        size         = x.size()[1:]\n",
    "        num_features = 1\n",
    "        for s in size:\n",
    "            num_features *= s\n",
    "        return num_features\n",
    "\n",
    "if __name__ == \"__main__\":\n",
    "    with torch.cuda.device(0): # doesnt effin work!\n",
    "        ## DEFINE\n",
    "        net = Net()\n",
    "        net = net.cuda()\n",
    "        criterion = nn.MSELoss()\n",
    "        optimizer = optim.SGD(net.parameters(), lr=0.01)\n",
    "\n",
    "        ## INITIALIZE\n",
    "        x  = torch.randn(1,1,32,32, device=torch.device('cuda'))\n",
    "        y_ = torch.randn(10, device=torch.device('cuda'))\n",
    "        print ('x:', type(x))\n",
    "        y_ = y_.view(1,-1)\n",
    "        y  = net(x)\n",
    "\n",
    "        ## RUN\n",
    "        optimizer.zero_grad()\n",
    "        print (net.conv1.bias.grad)\n",
    "        loss = criterion(y, y_)\n",
    "        loss.backward(retain_graph=True)\n",
    "        optimizer.step()\n",
    "        print (net.conv1.bias.grad)\n",
    "\n",
    "        verbose = 0\n",
    "        if verbose:\n",
    "            print (net)\n",
    "            print ('\\n ============== \\n')\n",
    "            params = list(net.parameters())\n",
    "            for each in params:\n",
    "                print (each.size(), each.name)\n",
    "            print ('\\n ============== \\n')\n",
    "            y = net(x)\n",
    "            print (y)\n"
   ]
  },
  {
   "cell_type": "markdown",
   "metadata": {},
   "source": [
    "# Dataset"
   ]
  },
  {
   "cell_type": "code",
   "execution_count": 2,
   "metadata": {
    "ExecuteTime": {
     "end_time": "2018-12-08T15:03:15.397056Z",
     "start_time": "2018-12-08T15:03:15.186126Z"
    },
    "collapsed": true
   },
   "outputs": [],
   "source": [
    "import torch\n",
    "import torchvision\n",
    "import torchvision.transforms as transforms"
   ]
  },
  {
   "cell_type": "code",
   "execution_count": 3,
   "metadata": {
    "ExecuteTime": {
     "end_time": "2018-12-08T15:03:18.002895Z",
     "start_time": "2018-12-08T15:03:16.152252Z"
    }
   },
   "outputs": [
    {
     "name": "stdout",
     "output_type": "stream",
     "text": [
      "Files already downloaded and verified\n",
      "Files already downloaded and verified\n"
     ]
    }
   ],
   "source": [
    "transform = transforms.Compose(\n",
    "    [transforms.ToTensor(),\n",
    "     transforms.Normalize((0.5, 0.5, 0.5), (0.5, 0.5, 0.5))\n",
    "    ]\n",
    ")\n",
    "\n",
    "trainset = torchvision.datasets.CIFAR10(root='./data'\n",
    "            , train=True, download=True, transform=transform)\n",
    "\n",
    "trainloader = torch.utils.data.DataLoader(trainset, batch_size=4,\n",
    "                    shuffle=True, num_workers=2, pin_memory=True)\n",
    "\n",
    "testset = torchvision.datasets.CIFAR10(root='./data', train=False,\n",
    "                                      download=True, transform=transform)\n",
    "testloader = torch.utils.data.DataLoader(testset, batch_size=4,\n",
    "                        shuffle=False,num_workers=2, pin_memory=True)\n",
    "\n",
    "classes = ('plane', 'car', 'bird', 'cat',\n",
    "           'deer', 'dog', 'frog', 'horse', 'ship', 'truck')"
   ]
  },
  {
   "cell_type": "code",
   "execution_count": 64,
   "metadata": {
    "ExecuteTime": {
     "end_time": "2018-12-08T13:48:27.014093Z",
     "start_time": "2018-12-08T13:48:26.879603Z"
    }
   },
   "outputs": [
    {
     "name": "stdout",
     "output_type": "stream",
     "text": [
      "<class 'torch.Tensor'> <class 'torch.Tensor'>\n",
      "torch.Size([4, 3, 32, 32]) torch.Size([4])\n"
     ]
    }
   ],
   "source": [
    "dataiter = iter(trainloader)\n",
    "images, labels = dataiter.next()\n",
    "\n",
    "print (type(images), type(labels))\n",
    "print (images.size(), labels.size())"
   ]
  },
  {
   "cell_type": "code",
   "execution_count": 4,
   "metadata": {
    "ExecuteTime": {
     "end_time": "2018-12-08T15:04:34.315767Z",
     "start_time": "2018-12-08T15:03:19.162101Z"
    }
   },
   "outputs": [
    {
     "name": "stdout",
     "output_type": "stream",
     "text": [
      "[1,  2000] loss: 2.104\n",
      "[1,  4000] loss: 1.742\n",
      "[1,  6000] loss: 1.557\n",
      "[1,  8000] loss: 1.487\n",
      "[1, 10000] loss: 1.396\n",
      "[1, 12000] loss: 1.341\n",
      "[2,  2000] loss: 1.246\n",
      "[2,  4000] loss: 1.192\n",
      "[2,  6000] loss: 1.164\n",
      "[2,  8000] loss: 1.144\n",
      "[2, 10000] loss: 1.110\n",
      "[2, 12000] loss: 1.099\n",
      "Finished training\n"
     ]
    }
   ],
   "source": [
    "import torch.nn as nn\n",
    "import torch.nn.functional as F\n",
    "import torch.optim as optim\n",
    "\n",
    "class Net(nn.Module):\n",
    "    def __init__(self):\n",
    "        super(Net, self).__init__()\n",
    "        self.conv1 = nn.Conv2d(3,16,5)\n",
    "        self.pool  = nn.MaxPool2d(2,2)\n",
    "        self.conv2 = nn.Conv2d(16,64,5)\n",
    "        self.fc1   = nn.Linear(64*5*5, 120)\n",
    "        self.fc2   = nn.Linear(120,84)\n",
    "        self.fc3   = nn.Linear(84,10)\n",
    "    \n",
    "    def forward(self, x):\n",
    "        x = self.pool(F.relu(self.conv1(x)))\n",
    "        x = self.pool(F.relu(self.conv2(x)))\n",
    "        x = x.view(-1, 64 * 5 * 5)\n",
    "        x = F.relu(self.fc1(x))\n",
    "        x = F.relu(self.fc2(x))\n",
    "        x = self.fc3(x)\n",
    "        return x\n",
    "\n",
    "if __name__ == \"__main__\":\n",
    "    net = Net().cuda()\n",
    "    criterion = nn.CrossEntropyLoss()\n",
    "    optimizer = optim.SGD(net.parameters(), lr=0.001, momentum=0.9)\n",
    "    \n",
    "    for epoch in range(2):\n",
    "        running_loss = 0.0\n",
    "        for i, data in enumerate(trainloader):\n",
    "            X, Y = data\n",
    "            #X = X.to(torch.device('cuda'))\n",
    "            #Y = Y.to(torch.device('cuda'))\n",
    "            \n",
    "            optimizer.zero_grad()\n",
    "            \n",
    "            Y_   = net(X.cuda())\n",
    "            loss = criterion(Y_, Y.cuda())\n",
    "            loss.backward()\n",
    "            optimizer.step()\n",
    "            \n",
    "            running_loss += loss.item()\n",
    "            if i % 2000 == 1999:    # print every 2000 mini-batches\n",
    "                print('[%d, %5d] loss: %.3f' %\n",
    "                      (epoch + 1, i + 1, running_loss / 2000))\n",
    "                running_loss = 0.0 \n",
    "    \n",
    "    print ('Finished training')"
   ]
  },
  {
   "cell_type": "code",
   "execution_count": 5,
   "metadata": {
    "ExecuteTime": {
     "end_time": "2018-12-08T15:04:45.924915Z",
     "start_time": "2018-12-08T15:04:45.844082Z"
    }
   },
   "outputs": [
    {
     "name": "stdout",
     "output_type": "stream",
     "text": [
      "Predicted:    cat  ship  ship plane\n"
     ]
    }
   ],
   "source": [
    "dataiter = iter(testloader)\n",
    "images, labels = dataiter.next()\n",
    "# images = images.to(torch.device('cuda'))\n",
    "# labels = labels.to(torch.device('cuda'))\n",
    "\n",
    "outputs = net(images.cuda())\n",
    "_, predicted = torch.max(outputs, 1)\n",
    "print('Predicted: ', ' '.join('%5s' % classes[predicted[j]]\n",
    "                              for j in range(4)))\n",
    "\n",
    "# print (outputs.data)\n",
    "# print (predicted.data)"
   ]
  },
  {
   "cell_type": "code",
   "execution_count": 7,
   "metadata": {
    "ExecuteTime": {
     "end_time": "2018-12-08T15:05:31.411377Z",
     "start_time": "2018-12-08T15:05:27.063137Z"
    }
   },
   "outputs": [
    {
     "name": "stdout",
     "output_type": "stream",
     "text": [
      "Accuracy of the network on the 10000 test images: 61 %\n"
     ]
    }
   ],
   "source": [
    "correct = 0\n",
    "total = 0\n",
    "with torch.no_grad():\n",
    "    for data in testloader:\n",
    "        images, labels = data\n",
    "        # images = images.to(torch.device('cuda'))\n",
    "        # labels = labels.to(torch.device('cuda'))\n",
    "        outputs = net(images.cuda())\n",
    "        _, predicted = torch.max(outputs.data, 1)\n",
    "        total += labels.size(0)\n",
    "        correct += (predicted == labels.cuda()).sum().item()\n",
    "\n",
    "print('Accuracy of the network on the 10000 test images: %d %%' % (\n",
    "    100 * correct / total))"
   ]
  },
  {
   "cell_type": "code",
   "execution_count": 84,
   "metadata": {
    "ExecuteTime": {
     "end_time": "2018-12-08T13:59:44.411187Z",
     "start_time": "2018-12-08T13:59:39.651656Z"
    }
   },
   "outputs": [
    {
     "name": "stdout",
     "output_type": "stream",
     "text": [
      "Accuracy of plane : 73 %\n",
      "Accuracy of   car : 79 %\n",
      "Accuracy of  bird : 58 %\n",
      "Accuracy of   cat : 48 %\n",
      "Accuracy of  deer : 47 %\n",
      "Accuracy of   dog : 46 %\n",
      "Accuracy of  frog : 62 %\n",
      "Accuracy of horse : 76 %\n",
      "Accuracy of  ship : 79 %\n",
      "Accuracy of truck : 69 %\n"
     ]
    }
   ],
   "source": [
    "class_correct = list(0. for i in range(10))\n",
    "class_total = list(0. for i in range(10))\n",
    "with torch.no_grad():\n",
    "    for data in testloader:\n",
    "        images, labels = data\n",
    "        images = images.to(torch.device('cuda'))\n",
    "        labels = labels.to(torch.device('cuda'))\n",
    "        outputs = net(images)\n",
    "        _, predicted = torch.max(outputs, 1)\n",
    "        c = (predicted == labels).squeeze()\n",
    "        for i in range(4):\n",
    "            label = labels[i]\n",
    "            class_correct[label] += c[i].item()\n",
    "            class_total[label] += 1\n",
    "\n",
    "\n",
    "for i in range(10):\n",
    "    print('Accuracy of %5s : %2d %%' % (\n",
    "        classes[i], 100 * class_correct[i] / class_total[i]))"
   ]
  },
  {
   "cell_type": "markdown",
   "metadata": {
    "heading_collapsed": true
   },
   "source": [
    "# Rough"
   ]
  },
  {
   "cell_type": "code",
   "execution_count": 10,
   "metadata": {
    "ExecuteTime": {
     "end_time": "2018-12-08T11:46:08.968045Z",
     "start_time": "2018-12-08T11:46:08.853636Z"
    },
    "hidden": true
   },
   "outputs": [
    {
     "name": "stdout",
     "output_type": "stream",
     "text": [
      "tensor([[-0.1152, -0.1128,  0.0088,  0.1154,  0.0666,  0.2232,  0.0561,  0.0621,\n",
      "         -0.0055,  0.0377]], grad_fn=<AddmmBackward>)\n"
     ]
    }
   ],
   "source": [
    "x = torch.randn(1,1,32,32)\n",
    "out = net(x)\n",
    "print (out)\n",
    "\n",
    "\n",
    "net.zero_grad()\n",
    "out.backward(torch.randn(1,10))"
   ]
  },
  {
   "cell_type": "code",
   "execution_count": 27,
   "metadata": {
    "ExecuteTime": {
     "end_time": "2018-12-08T11:53:00.809288Z",
     "start_time": "2018-12-08T11:53:00.786776Z"
    },
    "hidden": true
   },
   "outputs": [
    {
     "name": "stdout",
     "output_type": "stream",
     "text": [
      "tensor(0.8655, grad_fn=<MseLossBackward>)\n"
     ]
    }
   ],
   "source": [
    "y      = net(x)\n",
    "y_ = torch.randn(10)\n",
    "y_ = y_.view(1,-1)\n",
    "\n",
    "criterion = nn.MSELoss()\n",
    "loss      = criterion(y, y_)\n",
    "print (loss)"
   ]
  },
  {
   "cell_type": "code",
   "execution_count": 20,
   "metadata": {
    "ExecuteTime": {
     "end_time": "2018-12-08T11:50:59.024703Z",
     "start_time": "2018-12-08T11:50:59.011153Z"
    },
    "hidden": true
   },
   "outputs": [
    {
     "name": "stdout",
     "output_type": "stream",
     "text": [
      "<MseLossBackward object at 0x7f4446aa6160>\n",
      "((<AddmmBackward object at 0x7f4446acc358>, 0),)\n",
      "((<AccumulateGrad object at 0x7f4446accb70>, 0), (<ReluBackward0 object at 0x7f4446accac8>, 0), (<TBackward object at 0x7f4446acc978>, 0))\n"
     ]
    }
   ],
   "source": [
    "print (loss.grad_fn)\n",
    "print (loss.grad_fn.next_functions)\n",
    "print (loss.grad_fn.next_functions[0][0].next_functions)"
   ]
  },
  {
   "cell_type": "code",
   "execution_count": 30,
   "metadata": {
    "ExecuteTime": {
     "end_time": "2018-12-08T11:53:12.071206Z",
     "start_time": "2018-12-08T11:53:12.017015Z"
    },
    "hidden": true
   },
   "outputs": [
    {
     "name": "stdout",
     "output_type": "stream",
     "text": [
      "tensor([0., 0., 0., 0., 0., 0.])\n",
      "tensor([-0.0281,  0.0012,  0.0232, -0.0006,  0.0155, -0.0261])\n"
     ]
    }
   ],
   "source": [
    "net.zero_grad()\n",
    "print (net.conv1.bias.grad)\n",
    "\n",
    "loss.backward(retain_graph=True)\n",
    "print (net.conv1.bias.grad)"
   ]
  },
  {
   "cell_type": "code",
   "execution_count": 32,
   "metadata": {
    "ExecuteTime": {
     "end_time": "2018-12-08T11:55:32.386634Z",
     "start_time": "2018-12-08T11:55:32.323393Z"
    },
    "collapsed": true,
    "hidden": true
   },
   "outputs": [],
   "source": [
    "import torch.optim as optim\n",
    "optimizer = optim.SGD(net.parameters(), lr=0.01)\n",
    "optimizer.zero_grad()\n",
    "y = net(x)\n",
    "loss= criterion(y, y_)\n",
    "loss.backward()\n",
    "optimizer.step()"
   ]
  }
 ],
 "metadata": {
  "anaconda-cloud": {},
  "kernelspec": {
   "display_name": "Python 3",
   "language": "python",
   "name": "python3"
  },
  "language_info": {
   "codemirror_mode": {
    "name": "ipython",
    "version": 3
   },
   "file_extension": ".py",
   "mimetype": "text/x-python",
   "name": "python",
   "nbconvert_exporter": "python",
   "pygments_lexer": "ipython3",
   "version": "3.6.6"
  },
  "varInspector": {
   "cols": {
    "lenName": 16,
    "lenType": 16,
    "lenVar": 40
   },
   "kernels_config": {
    "python": {
     "delete_cmd_postfix": "",
     "delete_cmd_prefix": "del ",
     "library": "var_list.py",
     "varRefreshCmd": "print(var_dic_list())"
    },
    "r": {
     "delete_cmd_postfix": ") ",
     "delete_cmd_prefix": "rm(",
     "library": "var_list.r",
     "varRefreshCmd": "cat(var_dic_list()) "
    }
   },
   "types_to_exclude": [
    "module",
    "function",
    "builtin_function_or_method",
    "instance",
    "_Feature"
   ],
   "window_display": false
  }
 },
 "nbformat": 4,
 "nbformat_minor": 1
}
